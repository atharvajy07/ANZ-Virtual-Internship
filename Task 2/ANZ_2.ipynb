{
 "cells": [
  {
   "cell_type": "code",
   "execution_count": 1,
   "metadata": {},
   "outputs": [],
   "source": [
    "#Importing packages\n",
    "import pandas as pd\n",
    "import numpy as np\n",
    "import matplotlib.pyplot as plt"
   ]
  },
  {
   "cell_type": "code",
   "execution_count": 2,
   "metadata": {},
   "outputs": [],
   "source": [
    "#Importing dataset\n",
    "df = pd.read_excel('ANZ synthesised transaction dataset.xlsx')"
   ]
  },
  {
   "cell_type": "code",
   "execution_count": 3,
   "metadata": {},
   "outputs": [
    {
     "data": {
      "text/plain": [
       "['status',\n",
       " 'card_present_flag',\n",
       " 'bpay_biller_code',\n",
       " 'account',\n",
       " 'currency',\n",
       " 'long_lat',\n",
       " 'txn_description',\n",
       " 'merchant_id',\n",
       " 'merchant_code',\n",
       " 'first_name',\n",
       " 'balance',\n",
       " 'date',\n",
       " 'gender',\n",
       " 'age',\n",
       " 'merchant_suburb',\n",
       " 'merchant_state',\n",
       " 'extraction',\n",
       " 'amount',\n",
       " 'transaction_id',\n",
       " 'country',\n",
       " 'customer_id',\n",
       " 'merchant_long_lat',\n",
       " 'movement',\n",
       " 'Month']"
      ]
     },
     "execution_count": 3,
     "metadata": {},
     "output_type": "execute_result"
    }
   ],
   "source": [
    "list(df)"
   ]
  },
  {
   "cell_type": "code",
   "execution_count": 4,
   "metadata": {
    "scrolled": false
   },
   "outputs": [
    {
     "data": {
      "text/plain": [
       "status                   0\n",
       "card_present_flag     4326\n",
       "bpay_biller_code     11158\n",
       "account                  0\n",
       "currency                 0\n",
       "long_lat                 0\n",
       "txn_description          0\n",
       "merchant_id           4326\n",
       "merchant_code        11160\n",
       "first_name               0\n",
       "balance                  0\n",
       "date                     0\n",
       "gender                   0\n",
       "age                      0\n",
       "merchant_suburb       4326\n",
       "merchant_state        4326\n",
       "extraction               0\n",
       "amount                   0\n",
       "transaction_id           0\n",
       "country                  0\n",
       "customer_id              0\n",
       "merchant_long_lat     4326\n",
       "movement                 0\n",
       "Month                    0\n",
       "dtype: int64"
      ]
     },
     "execution_count": 4,
     "metadata": {},
     "output_type": "execute_result"
    }
   ],
   "source": [
    "df.isnull().sum()"
   ]
  },
  {
   "cell_type": "code",
   "execution_count": 5,
   "metadata": {},
   "outputs": [],
   "source": [
    "#Dropping irrelevant columns/features\n",
    "df.drop(['card_present_flag','bpay_biller_code','merchant_code','currency','country'],axis=1,inplace=True)"
   ]
  },
  {
   "cell_type": "code",
   "execution_count": 6,
   "metadata": {},
   "outputs": [
    {
     "data": {
      "text/plain": [
       "['status',\n",
       " 'account',\n",
       " 'long_lat',\n",
       " 'txn_description',\n",
       " 'merchant_id',\n",
       " 'first_name',\n",
       " 'balance',\n",
       " 'date',\n",
       " 'gender',\n",
       " 'age',\n",
       " 'merchant_suburb',\n",
       " 'merchant_state',\n",
       " 'extraction',\n",
       " 'amount',\n",
       " 'transaction_id',\n",
       " 'customer_id',\n",
       " 'merchant_long_lat',\n",
       " 'movement',\n",
       " 'Month']"
      ]
     },
     "execution_count": 6,
     "metadata": {},
     "output_type": "execute_result"
    }
   ],
   "source": [
    "list(df)"
   ]
  },
  {
   "cell_type": "markdown",
   "metadata": {},
   "source": [
    "### Currency and country columns were dropped because they had the same value _'AUD'_ and _'Australia'_ throughout the dataset."
   ]
  },
  {
   "cell_type": "markdown",
   "metadata": {},
   "source": [
    "### Creating a new column- \"__total_amount__\""
   ]
  },
  {
   "cell_type": "code",
   "execution_count": 7,
   "metadata": {},
   "outputs": [],
   "source": [
    "df_total = df.groupby(\"customer_id\").sum()"
   ]
  },
  {
   "cell_type": "code",
   "execution_count": 8,
   "metadata": {},
   "outputs": [],
   "source": [
    "total = []\n",
    "for i in df['customer_id']:\n",
    "    total.append(int(df_total.loc[i]['amount']))   "
   ]
  },
  {
   "cell_type": "code",
   "execution_count": 9,
   "metadata": {},
   "outputs": [],
   "source": [
    "df['total_amount'] = total"
   ]
  },
  {
   "cell_type": "markdown",
   "metadata": {},
   "source": [
    "### Modifying data to find the salary of the customers"
   ]
  },
  {
   "cell_type": "code",
   "execution_count": 10,
   "metadata": {},
   "outputs": [],
   "source": [
    "df_salary = df[df[\"txn_description\"]==\"PAY/SALARY\"].groupby(\"customer_id\").mean()"
   ]
  },
  {
   "cell_type": "code",
   "execution_count": 11,
   "metadata": {},
   "outputs": [
    {
     "data": {
      "text/html": [
       "<div>\n",
       "<style scoped>\n",
       "    .dataframe tbody tr th:only-of-type {\n",
       "        vertical-align: middle;\n",
       "    }\n",
       "\n",
       "    .dataframe tbody tr th {\n",
       "        vertical-align: top;\n",
       "    }\n",
       "\n",
       "    .dataframe thead th {\n",
       "        text-align: right;\n",
       "    }\n",
       "</style>\n",
       "<table border=\"1\" class=\"dataframe\">\n",
       "  <thead>\n",
       "    <tr style=\"text-align: right;\">\n",
       "      <th></th>\n",
       "      <th>balance</th>\n",
       "      <th>age</th>\n",
       "      <th>amount</th>\n",
       "      <th>Month</th>\n",
       "      <th>total_amount</th>\n",
       "    </tr>\n",
       "    <tr>\n",
       "      <th>customer_id</th>\n",
       "      <th></th>\n",
       "      <th></th>\n",
       "      <th></th>\n",
       "      <th></th>\n",
       "      <th></th>\n",
       "    </tr>\n",
       "  </thead>\n",
       "  <tbody>\n",
       "    <tr>\n",
       "      <th>CUS-1005756958</th>\n",
       "      <td>4718.665385</td>\n",
       "      <td>53.0</td>\n",
       "      <td>970.47</td>\n",
       "      <td>9.076923</td>\n",
       "      <td>16268.0</td>\n",
       "    </tr>\n",
       "    <tr>\n",
       "      <th>CUS-1117979751</th>\n",
       "      <td>11957.202857</td>\n",
       "      <td>21.0</td>\n",
       "      <td>3578.65</td>\n",
       "      <td>9.142857</td>\n",
       "      <td>33984.0</td>\n",
       "    </tr>\n",
       "    <tr>\n",
       "      <th>CUS-1140341822</th>\n",
       "      <td>5841.720000</td>\n",
       "      <td>28.0</td>\n",
       "      <td>1916.51</td>\n",
       "      <td>9.000000</td>\n",
       "      <td>17010.0</td>\n",
       "    </tr>\n",
       "    <tr>\n",
       "      <th>CUS-1147642491</th>\n",
       "      <td>8813.467692</td>\n",
       "      <td>34.0</td>\n",
       "      <td>1711.39</td>\n",
       "      <td>9.076923</td>\n",
       "      <td>28980.0</td>\n",
       "    </tr>\n",
       "    <tr>\n",
       "      <th>CUS-1196156254</th>\n",
       "      <td>23845.717143</td>\n",
       "      <td>34.0</td>\n",
       "      <td>3903.73</td>\n",
       "      <td>8.857143</td>\n",
       "      <td>36050.0</td>\n",
       "    </tr>\n",
       "  </tbody>\n",
       "</table>\n",
       "</div>"
      ],
      "text/plain": [
       "                     balance   age   amount     Month  total_amount\n",
       "customer_id                                                        \n",
       "CUS-1005756958   4718.665385  53.0   970.47  9.076923       16268.0\n",
       "CUS-1117979751  11957.202857  21.0  3578.65  9.142857       33984.0\n",
       "CUS-1140341822   5841.720000  28.0  1916.51  9.000000       17010.0\n",
       "CUS-1147642491   8813.467692  34.0  1711.39  9.076923       28980.0\n",
       "CUS-1196156254  23845.717143  34.0  3903.73  8.857143       36050.0"
      ]
     },
     "execution_count": 11,
     "metadata": {},
     "output_type": "execute_result"
    }
   ],
   "source": [
    "df_salary.head()"
   ]
  },
  {
   "cell_type": "code",
   "execution_count": 12,
   "metadata": {},
   "outputs": [
    {
     "data": {
      "text/plain": [
       "(100, 5)"
      ]
     },
     "execution_count": 12,
     "metadata": {},
     "output_type": "execute_result"
    }
   ],
   "source": [
    "df_salary.shape"
   ]
  },
  {
   "cell_type": "markdown",
   "metadata": {},
   "source": [
    "### Thus we can now get the salary of all the 100 customers in our dataset."
   ]
  },
  {
   "cell_type": "code",
   "execution_count": 13,
   "metadata": {},
   "outputs": [],
   "source": [
    "salary = []\n",
    "for i in df['customer_id']:\n",
    "    salary.append(int(df_salary.loc[i]['amount']))   "
   ]
  },
  {
   "cell_type": "code",
   "execution_count": 14,
   "metadata": {},
   "outputs": [],
   "source": [
    "# Creating a new column salary in our dataset\n",
    "df['salary'] = salary"
   ]
  },
  {
   "cell_type": "code",
   "execution_count": 15,
   "metadata": {},
   "outputs": [
    {
     "data": {
      "text/html": [
       "<div>\n",
       "<style scoped>\n",
       "    .dataframe tbody tr th:only-of-type {\n",
       "        vertical-align: middle;\n",
       "    }\n",
       "\n",
       "    .dataframe tbody tr th {\n",
       "        vertical-align: top;\n",
       "    }\n",
       "\n",
       "    .dataframe thead th {\n",
       "        text-align: right;\n",
       "    }\n",
       "</style>\n",
       "<table border=\"1\" class=\"dataframe\">\n",
       "  <thead>\n",
       "    <tr style=\"text-align: right;\">\n",
       "      <th></th>\n",
       "      <th>status</th>\n",
       "      <th>account</th>\n",
       "      <th>long_lat</th>\n",
       "      <th>txn_description</th>\n",
       "      <th>merchant_id</th>\n",
       "      <th>first_name</th>\n",
       "      <th>balance</th>\n",
       "      <th>date</th>\n",
       "      <th>gender</th>\n",
       "      <th>age</th>\n",
       "      <th>...</th>\n",
       "      <th>merchant_state</th>\n",
       "      <th>extraction</th>\n",
       "      <th>amount</th>\n",
       "      <th>transaction_id</th>\n",
       "      <th>customer_id</th>\n",
       "      <th>merchant_long_lat</th>\n",
       "      <th>movement</th>\n",
       "      <th>Month</th>\n",
       "      <th>total_amount</th>\n",
       "      <th>salary</th>\n",
       "    </tr>\n",
       "  </thead>\n",
       "  <tbody>\n",
       "    <tr>\n",
       "      <th>9116</th>\n",
       "      <td>posted</td>\n",
       "      <td>ACC-4059612845</td>\n",
       "      <td>130.98 -12.49</td>\n",
       "      <td>PAYMENT</td>\n",
       "      <td>NaN</td>\n",
       "      <td>Jonathan</td>\n",
       "      <td>58961.93</td>\n",
       "      <td>2018-10-10</td>\n",
       "      <td>M</td>\n",
       "      <td>38</td>\n",
       "      <td>...</td>\n",
       "      <td>NaN</td>\n",
       "      <td>2018-10-10T02:00:00.000+0000</td>\n",
       "      <td>77.0</td>\n",
       "      <td>0e59c039ddf045188de07b534d82f880</td>\n",
       "      <td>CUS-495599312</td>\n",
       "      <td>NaN</td>\n",
       "      <td>debit</td>\n",
       "      <td>10</td>\n",
       "      <td>21502</td>\n",
       "      <td>2647</td>\n",
       "    </tr>\n",
       "  </tbody>\n",
       "</table>\n",
       "<p>1 rows × 21 columns</p>\n",
       "</div>"
      ],
      "text/plain": [
       "      status         account       long_lat txn_description merchant_id  \\\n",
       "9116  posted  ACC-4059612845  130.98 -12.49         PAYMENT         NaN   \n",
       "\n",
       "     first_name   balance       date gender  age  ... merchant_state  \\\n",
       "9116   Jonathan  58961.93 2018-10-10      M   38  ...            NaN   \n",
       "\n",
       "                        extraction amount                    transaction_id  \\\n",
       "9116  2018-10-10T02:00:00.000+0000   77.0  0e59c039ddf045188de07b534d82f880   \n",
       "\n",
       "        customer_id merchant_long_lat movement Month  total_amount  salary  \n",
       "9116  CUS-495599312               NaN    debit    10         21502    2647  \n",
       "\n",
       "[1 rows x 21 columns]"
      ]
     },
     "execution_count": 15,
     "metadata": {},
     "output_type": "execute_result"
    }
   ],
   "source": [
    "df.sample()"
   ]
  },
  {
   "cell_type": "markdown",
   "metadata": {},
   "source": [
    "### Picking features for Predictive Analysis."
   ]
  },
  {
   "cell_type": "code",
   "execution_count": 16,
   "metadata": {},
   "outputs": [
    {
     "data": {
      "image/png": "[encoded data removed]",
      "text/plain": [
       "<Figure size 432x288 with 2 Axes>"
      ]
     },
     "metadata": {
      "needs_background": "light"
     },
     "output_type": "display_data"
    }
   ],
   "source": [
    "import seaborn as sns\n",
    "#Heatmap for numerical variables\n",
    "corr = df[['balance','age','total_amount','salary','amount','Month']].corr()\n",
    "sns.heatmap(corr,annot = True);"
   ]
  },
  {
   "cell_type": "markdown",
   "metadata": {},
   "source": [
    "### Thus, the variables balance and total_amount can be used to predict the salary of the customer."
   ]
  },
  {
   "cell_type": "markdown",
   "metadata": {},
   "source": [
    "# Predictive Analysis"
   ]
  },
  {
   "cell_type": "markdown",
   "metadata": {},
   "source": [
    "## Applying Multiple Linear Regression model "
   ]
  },
  {
   "cell_type": "markdown",
   "metadata": {},
   "source": [
    "## Data Preprocessing"
   ]
  },
  {
   "cell_type": "code",
   "execution_count": 17,
   "metadata": {},
   "outputs": [
    {
     "data": {
      "text/plain": [
       "['status',\n",
       " 'account',\n",
       " 'long_lat',\n",
       " 'txn_description',\n",
       " 'merchant_id',\n",
       " 'first_name',\n",
       " 'balance',\n",
       " 'date',\n",
       " 'gender',\n",
       " 'age',\n",
       " 'merchant_suburb',\n",
       " 'merchant_state',\n",
       " 'extraction',\n",
       " 'amount',\n",
       " 'transaction_id',\n",
       " 'customer_id',\n",
       " 'merchant_long_lat',\n",
       " 'movement',\n",
       " 'Month',\n",
       " 'total_amount',\n",
       " 'salary']"
      ]
     },
     "execution_count": 17,
     "metadata": {},
     "output_type": "execute_result"
    }
   ],
   "source": [
    "list(df)"
   ]
  },
  {
   "cell_type": "code",
   "execution_count": 18,
   "metadata": {},
   "outputs": [],
   "source": [
    "#Making a copy of the dataset\n",
    "trans = df.copy()"
   ]
  },
  {
   "cell_type": "code",
   "execution_count": 19,
   "metadata": {},
   "outputs": [
    {
     "data": {
      "text/plain": [
       "status                  0\n",
       "account                 0\n",
       "long_lat                0\n",
       "txn_description         0\n",
       "merchant_id          4326\n",
       "first_name              0\n",
       "balance                 0\n",
       "date                    0\n",
       "gender                  0\n",
       "age                     0\n",
       "merchant_suburb      4326\n",
       "merchant_state       4326\n",
       "extraction              0\n",
       "amount                  0\n",
       "transaction_id          0\n",
       "customer_id             0\n",
       "merchant_long_lat    4326\n",
       "movement                0\n",
       "Month                   0\n",
       "total_amount            0\n",
       "salary                  0\n",
       "dtype: int64"
      ]
     },
     "execution_count": 19,
     "metadata": {},
     "output_type": "execute_result"
    }
   ],
   "source": [
    "trans.isnull().sum()"
   ]
  },
  {
   "cell_type": "code",
   "execution_count": 20,
   "metadata": {},
   "outputs": [],
   "source": [
    "#Dropping useless columns\n",
    "trans.drop(['status','account','long_lat','merchant_id','first_name','extraction','amount','transaction_id',\n",
    " 'customer_id','merchant_suburb','date','txn_description','age','Month','merchant_long_lat','movement'],axis=1,inplace=True)"
   ]
  },
  {
   "cell_type": "code",
   "execution_count": 21,
   "metadata": {},
   "outputs": [
    {
     "data": {
      "text/plain": [
       "['balance', 'gender', 'merchant_state', 'total_amount', 'salary']"
      ]
     },
     "execution_count": 21,
     "metadata": {},
     "output_type": "execute_result"
    }
   ],
   "source": [
    "list(trans)"
   ]
  },
  {
   "cell_type": "code",
   "execution_count": 22,
   "metadata": {},
   "outputs": [
    {
     "data": {
      "text/plain": [
       "balance              0\n",
       "gender               0\n",
       "merchant_state    4326\n",
       "total_amount         0\n",
       "salary               0\n",
       "dtype: int64"
      ]
     },
     "execution_count": 22,
     "metadata": {},
     "output_type": "execute_result"
    }
   ],
   "source": [
    "#Checking for missing values\n",
    "trans.isnull().sum()"
   ]
  },
  {
   "cell_type": "code",
   "execution_count": 23,
   "metadata": {},
   "outputs": [],
   "source": [
    "#Dropping all rows having missing values\n",
    "trans.dropna(axis=0,inplace=True)"
   ]
  },
  {
   "cell_type": "code",
   "execution_count": 24,
   "metadata": {},
   "outputs": [
    {
     "data": {
      "text/plain": [
       "balance           0\n",
       "gender            0\n",
       "merchant_state    0\n",
       "total_amount      0\n",
       "salary            0\n",
       "dtype: int64"
      ]
     },
     "execution_count": 24,
     "metadata": {},
     "output_type": "execute_result"
    }
   ],
   "source": [
    "#Checking for missing values\n",
    "trans.isnull().sum()"
   ]
  },
  {
   "cell_type": "code",
   "execution_count": 25,
   "metadata": {},
   "outputs": [
    {
     "data": {
      "text/plain": [
       "(7717, 5)"
      ]
     },
     "execution_count": 25,
     "metadata": {},
     "output_type": "execute_result"
    }
   ],
   "source": [
    "trans.shape"
   ]
  },
  {
   "cell_type": "code",
   "execution_count": 26,
   "metadata": {},
   "outputs": [
    {
     "data": {
      "text/html": [
       "<div>\n",
       "<style scoped>\n",
       "    .dataframe tbody tr th:only-of-type {\n",
       "        vertical-align: middle;\n",
       "    }\n",
       "\n",
       "    .dataframe tbody tr th {\n",
       "        vertical-align: top;\n",
       "    }\n",
       "\n",
       "    .dataframe thead th {\n",
       "        text-align: right;\n",
       "    }\n",
       "</style>\n",
       "<table border=\"1\" class=\"dataframe\">\n",
       "  <thead>\n",
       "    <tr style=\"text-align: right;\">\n",
       "      <th></th>\n",
       "      <th>balance</th>\n",
       "      <th>gender</th>\n",
       "      <th>merchant_state</th>\n",
       "      <th>total_amount</th>\n",
       "      <th>salary</th>\n",
       "    </tr>\n",
       "  </thead>\n",
       "  <tbody>\n",
       "    <tr>\n",
       "      <th>0</th>\n",
       "      <td>35.39</td>\n",
       "      <td>F</td>\n",
       "      <td>QLD</td>\n",
       "      <td>26211</td>\n",
       "      <td>1013</td>\n",
       "    </tr>\n",
       "    <tr>\n",
       "      <th>1</th>\n",
       "      <td>21.20</td>\n",
       "      <td>F</td>\n",
       "      <td>NSW</td>\n",
       "      <td>26211</td>\n",
       "      <td>1013</td>\n",
       "    </tr>\n",
       "    <tr>\n",
       "      <th>2</th>\n",
       "      <td>5.71</td>\n",
       "      <td>M</td>\n",
       "      <td>NSW</td>\n",
       "      <td>23696</td>\n",
       "      <td>1002</td>\n",
       "    </tr>\n",
       "    <tr>\n",
       "      <th>3</th>\n",
       "      <td>2117.22</td>\n",
       "      <td>F</td>\n",
       "      <td>QLD</td>\n",
       "      <td>19286</td>\n",
       "      <td>892</td>\n",
       "    </tr>\n",
       "    <tr>\n",
       "      <th>4</th>\n",
       "      <td>17.95</td>\n",
       "      <td>F</td>\n",
       "      <td>QLD</td>\n",
       "      <td>26211</td>\n",
       "      <td>1013</td>\n",
       "    </tr>\n",
       "  </tbody>\n",
       "</table>\n",
       "</div>"
      ],
      "text/plain": [
       "   balance gender merchant_state  total_amount  salary\n",
       "0    35.39      F            QLD         26211    1013\n",
       "1    21.20      F            NSW         26211    1013\n",
       "2     5.71      M            NSW         23696    1002\n",
       "3  2117.22      F            QLD         19286     892\n",
       "4    17.95      F            QLD         26211    1013"
      ]
     },
     "execution_count": 26,
     "metadata": {},
     "output_type": "execute_result"
    }
   ],
   "source": [
    "trans.head()"
   ]
  },
  {
   "cell_type": "code",
   "execution_count": 27,
   "metadata": {},
   "outputs": [
    {
     "data": {
      "text/plain": [
       "balance           float64\n",
       "gender             object\n",
       "merchant_state     object\n",
       "total_amount        int64\n",
       "salary              int64\n",
       "dtype: object"
      ]
     },
     "execution_count": 27,
     "metadata": {},
     "output_type": "execute_result"
    }
   ],
   "source": [
    "trans.dtypes"
   ]
  },
  {
   "cell_type": "code",
   "execution_count": 28,
   "metadata": {},
   "outputs": [],
   "source": [
    "#Converting gender and merchant state to categorical types\n",
    "trans = trans.astype({\"gender\":'category', \"merchant_state\":'category'}) "
   ]
  },
  {
   "cell_type": "code",
   "execution_count": 29,
   "metadata": {},
   "outputs": [
    {
     "data": {
      "text/plain": [
       "balance            float64\n",
       "gender            category\n",
       "merchant_state    category\n",
       "total_amount         int64\n",
       "salary               int64\n",
       "dtype: object"
      ]
     },
     "execution_count": 29,
     "metadata": {},
     "output_type": "execute_result"
    }
   ],
   "source": [
    "trans.dtypes"
   ]
  },
  {
   "cell_type": "code",
   "execution_count": 30,
   "metadata": {},
   "outputs": [],
   "source": [
    "#Importing the trans\n",
    "X = trans.iloc[:, :-1].values\n",
    "y = trans.iloc[:, -1].values"
   ]
  },
  {
   "cell_type": "code",
   "execution_count": 31,
   "metadata": {},
   "outputs": [
    {
     "name": "stdout",
     "output_type": "stream",
     "text": [
      "[[35.39 'F' 'QLD' 26211]\n",
      " [21.2 'F' 'NSW' 26211]\n",
      " [5.71 'M' 'NSW' 23696]\n",
      " ...\n",
      " [45394.57 'M' 'NSW' 33459]\n",
      " [11350.67 'M' 'VIC' 18680]\n",
      " [5517.91 'M' 'NSW' 21006]]\n"
     ]
    }
   ],
   "source": [
    "print(X)"
   ]
  },
  {
   "cell_type": "code",
   "execution_count": 33,
   "metadata": {},
   "outputs": [
    {
     "name": "stdout",
     "output_type": "stream",
     "text": [
      "[1013 1013 1002 ... 4054 1043  996]\n"
     ]
    }
   ],
   "source": [
    "print(y)"
   ]
  },
  {
   "cell_type": "markdown",
   "metadata": {},
   "source": [
    "### Encoding"
   ]
  },
  {
   "cell_type": "code",
   "execution_count": 34,
   "metadata": {},
   "outputs": [],
   "source": [
    "#For gender column\n",
    "from sklearn.compose import ColumnTransformer\n",
    "from sklearn.preprocessing import OneHotEncoder\n",
    "ct = ColumnTransformer(transformers=[('encoder', OneHotEncoder(), [1])], remainder='passthrough')\n",
    "X = np.array(ct.fit_transform(X))"
   ]
  },
  {
   "cell_type": "code",
   "execution_count": 35,
   "metadata": {},
   "outputs": [
    {
     "name": "stdout",
     "output_type": "stream",
     "text": [
      "[[1.0 0.0 35.39 'QLD' 26211]\n",
      " [1.0 0.0 21.2 'NSW' 26211]\n",
      " [0.0 1.0 5.71 'NSW' 23696]\n",
      " ...\n",
      " [0.0 1.0 45394.57 'NSW' 33459]\n",
      " [0.0 1.0 11350.67 'VIC' 18680]\n",
      " [0.0 1.0 5517.91 'NSW' 21006]]\n"
     ]
    }
   ],
   "source": [
    "print(X)"
   ]
  },
  {
   "cell_type": "code",
   "execution_count": 36,
   "metadata": {},
   "outputs": [],
   "source": [
    "#For merchant_state column\n",
    "from sklearn.compose import ColumnTransformer\n",
    "from sklearn.preprocessing import OneHotEncoder\n",
    "ct = ColumnTransformer(transformers=[('encoder', OneHotEncoder(), [3])], remainder='passthrough')\n",
    "X = np.array(ct.fit_transform(X))"
   ]
  },
  {
   "cell_type": "code",
   "execution_count": 37,
   "metadata": {},
   "outputs": [
    {
     "name": "stdout",
     "output_type": "stream",
     "text": [
      "[[0.0 0.0 0.0 ... 0.0 35.39 26211]\n",
      " [0.0 1.0 0.0 ... 0.0 21.2 26211]\n",
      " [0.0 1.0 0.0 ... 1.0 5.71 23696]\n",
      " ...\n",
      " [0.0 1.0 0.0 ... 1.0 45394.57 33459]\n",
      " [0.0 0.0 0.0 ... 1.0 11350.67 18680]\n",
      " [0.0 1.0 0.0 ... 1.0 5517.91 21006]]\n"
     ]
    }
   ],
   "source": [
    "print(X)"
   ]
  },
  {
   "cell_type": "markdown",
   "metadata": {},
   "source": [
    "### Splitting the dataset into the Training set and Test set"
   ]
  },
  {
   "cell_type": "code",
   "execution_count": 38,
   "metadata": {},
   "outputs": [],
   "source": [
    "from sklearn.model_selection import train_test_split\n",
    "X_train, X_test, y_train, y_test = train_test_split(X, y, test_size = 0.2, random_state = 0)"
   ]
  },
  {
   "cell_type": "markdown",
   "metadata": {},
   "source": [
    "### Training the model on training set"
   ]
  },
  {
   "cell_type": "code",
   "execution_count": 39,
   "metadata": {},
   "outputs": [
    {
     "data": {
      "text/plain": [
       "LinearRegression()"
      ]
     },
     "execution_count": 39,
     "metadata": {},
     "output_type": "execute_result"
    }
   ],
   "source": [
    "from sklearn.linear_model import LinearRegression\n",
    "regressor = LinearRegression()\n",
    "regressor.fit(X_train, y_train)"
   ]
  },
  {
   "cell_type": "markdown",
   "metadata": {},
   "source": [
    "### Predicting the test set results"
   ]
  },
  {
   "cell_type": "code",
   "execution_count": 40,
   "metadata": {},
   "outputs": [
    {
     "name": "stdout",
     "output_type": "stream",
     "text": [
      "[[1654.98 1068.  ]\n",
      " [2289.21 2887.  ]\n",
      " [1337.42  596.  ]\n",
      " ...\n",
      " [1688.86  916.  ]\n",
      " [2305.37 2886.  ]\n",
      " [1643.76 2470.  ]]\n"
     ]
    }
   ],
   "source": [
    "y_pred = regressor.predict(X_test)\n",
    "np.set_printoptions(precision=2)\n",
    "print(np.concatenate((y_pred.reshape(len(y_pred),1), y_test.reshape(len(y_test),1)),1))"
   ]
  },
  {
   "cell_type": "markdown",
   "metadata": {},
   "source": [
    "## Evaluating the model's performance using the _R2 metric_"
   ]
  },
  {
   "cell_type": "code",
   "execution_count": 41,
   "metadata": {},
   "outputs": [
    {
     "data": {
      "text/plain": [
       "0.23552848024936135"
      ]
     },
     "execution_count": 41,
     "metadata": {},
     "output_type": "execute_result"
    }
   ],
   "source": [
    "from sklearn.metrics import r2_score\n",
    "r2_score(y_test, y_pred)"
   ]
  },
  {
   "cell_type": "markdown",
   "metadata": {},
   "source": [
    "# Thus, using the multiple linear regression model on the given dataset, we get R^2 metric's value as 0.2355 which indicated that the model has performed very poorly on our dataset and that it is not suitable for our predictive analysis.\n",
    "## Following R^2 values were obtained after applying several machine learning regression algorithms on our dataset:\n",
    " - Multiple Linear Regression: __0.2355__\n",
    " - Polynomial Regression : __-14.64__\n",
    " - Support Vector Regression : __0.421__\n"
   ]
  },
  {
   "cell_type": "markdown",
   "metadata": {},
   "source": [
    "## Applying Decision Tree Regression algorithm"
   ]
  },
  {
   "cell_type": "markdown",
   "metadata": {},
   "source": [
    "### Using the trans dataset"
   ]
  },
  {
   "cell_type": "code",
   "execution_count": 42,
   "metadata": {},
   "outputs": [],
   "source": [
    "#Importing the trans\n",
    "X = trans.iloc[:, :-1].values\n",
    "y = trans.iloc[:, -1].values"
   ]
  },
  {
   "cell_type": "code",
   "execution_count": 43,
   "metadata": {},
   "outputs": [
    {
     "name": "stdout",
     "output_type": "stream",
     "text": [
      "[[35.39 'F' 'QLD' 26211]\n",
      " [21.2 'F' 'NSW' 26211]\n",
      " [5.71 'M' 'NSW' 23696]\n",
      " ...\n",
      " [45394.57 'M' 'NSW' 33459]\n",
      " [11350.67 'M' 'VIC' 18680]\n",
      " [5517.91 'M' 'NSW' 21006]]\n"
     ]
    }
   ],
   "source": [
    "print(X)"
   ]
  },
  {
   "cell_type": "code",
   "execution_count": 44,
   "metadata": {},
   "outputs": [
    {
     "name": "stdout",
     "output_type": "stream",
     "text": [
      "[1013 1013 1002 ... 4054 1043  996]\n"
     ]
    }
   ],
   "source": [
    "print(y)"
   ]
  },
  {
   "cell_type": "markdown",
   "metadata": {},
   "source": [
    "## Encoding"
   ]
  },
  {
   "cell_type": "code",
   "execution_count": 45,
   "metadata": {},
   "outputs": [],
   "source": [
    "from sklearn.compose import ColumnTransformer\n",
    "from sklearn.preprocessing import OneHotEncoder\n",
    "ct = ColumnTransformer(transformers=[('encoder', OneHotEncoder(), [1])], remainder='passthrough')\n",
    "X = np.array(ct.fit_transform(X))"
   ]
  },
  {
   "cell_type": "code",
   "execution_count": 46,
   "metadata": {},
   "outputs": [
    {
     "name": "stdout",
     "output_type": "stream",
     "text": [
      "[[1.0 0.0 35.39 'QLD' 26211]\n",
      " [1.0 0.0 21.2 'NSW' 26211]\n",
      " [0.0 1.0 5.71 'NSW' 23696]\n",
      " ...\n",
      " [0.0 1.0 45394.57 'NSW' 33459]\n",
      " [0.0 1.0 11350.67 'VIC' 18680]\n",
      " [0.0 1.0 5517.91 'NSW' 21006]]\n"
     ]
    }
   ],
   "source": [
    "print(X)"
   ]
  },
  {
   "cell_type": "code",
   "execution_count": 47,
   "metadata": {},
   "outputs": [],
   "source": [
    "from sklearn.compose import ColumnTransformer\n",
    "from sklearn.preprocessing import OneHotEncoder\n",
    "ct = ColumnTransformer(transformers=[('encoder', OneHotEncoder(), [3])], remainder='passthrough')\n",
    "X = np.array(ct.fit_transform(X))"
   ]
  },
  {
   "cell_type": "code",
   "execution_count": 48,
   "metadata": {},
   "outputs": [
    {
     "name": "stdout",
     "output_type": "stream",
     "text": [
      "[[0.0 0.0 0.0 ... 0.0 35.39 26211]\n",
      " [0.0 1.0 0.0 ... 0.0 21.2 26211]\n",
      " [0.0 1.0 0.0 ... 1.0 5.71 23696]\n",
      " ...\n",
      " [0.0 1.0 0.0 ... 1.0 45394.57 33459]\n",
      " [0.0 0.0 0.0 ... 1.0 11350.67 18680]\n",
      " [0.0 1.0 0.0 ... 1.0 5517.91 21006]]\n"
     ]
    }
   ],
   "source": [
    "print(X)"
   ]
  },
  {
   "cell_type": "markdown",
   "metadata": {},
   "source": [
    "## Splitting the dataset into the Training set and Test set"
   ]
  },
  {
   "cell_type": "code",
   "execution_count": 49,
   "metadata": {},
   "outputs": [],
   "source": [
    "from sklearn.model_selection import train_test_split\n",
    "X_train, X_test, y_train, y_test = train_test_split(X, y, test_size = 0.2, random_state = 0)"
   ]
  },
  {
   "cell_type": "markdown",
   "metadata": {},
   "source": [
    "## Training the Decision Tree Regression model on the Training set"
   ]
  },
  {
   "cell_type": "code",
   "execution_count": 50,
   "metadata": {},
   "outputs": [
    {
     "data": {
      "text/plain": [
       "DecisionTreeRegressor(random_state=0)"
      ]
     },
     "execution_count": 50,
     "metadata": {},
     "output_type": "execute_result"
    }
   ],
   "source": [
    "from sklearn.tree import DecisionTreeRegressor\n",
    "regressor = DecisionTreeRegressor(random_state = 0)\n",
    "regressor.fit(X_train, y_train)"
   ]
  },
  {
   "cell_type": "markdown",
   "metadata": {},
   "source": [
    "## Predicting the Test set results"
   ]
  },
  {
   "cell_type": "code",
   "execution_count": 51,
   "metadata": {},
   "outputs": [
    {
     "name": "stdout",
     "output_type": "stream",
     "text": [
      "[[1068. 1068.]\n",
      " [2887. 2887.]\n",
      " [ 596.  596.]\n",
      " ...\n",
      " [ 916.  916.]\n",
      " [2886. 2886.]\n",
      " [2470. 2470.]]\n"
     ]
    }
   ],
   "source": [
    "y_pred = regressor.predict(X_test)\n",
    "np.set_printoptions(precision=2)\n",
    "print(np.concatenate((y_pred.reshape(len(y_pred),1), y_test.reshape(len(y_test),1)),1))"
   ]
  },
  {
   "cell_type": "markdown",
   "metadata": {},
   "source": [
    "## Evaluating model performance"
   ]
  },
  {
   "cell_type": "code",
   "execution_count": 52,
   "metadata": {},
   "outputs": [
    {
     "data": {
      "text/plain": [
       "0.9956717483899056"
      ]
     },
     "execution_count": 52,
     "metadata": {},
     "output_type": "execute_result"
    }
   ],
   "source": [
    "from sklearn.metrics import r2_score\n",
    "r2_score(y_test, y_pred)"
   ]
  },
  {
   "cell_type": "markdown",
   "metadata": {},
   "source": [
    "## Thus, after applying the decision tree regression model on our dataset, we get a R^2 value of 0.995 which means that our model has performed really well on the dataset."
   ]
  },
  {
   "cell_type": "markdown",
   "metadata": {},
   "source": [
    "# Thus, after applying a variety of regression algorithms, we can conclude that decision tree regression model is the best fit for our analysis and can be used for the above trained model can be used for any further predictive analysis."
   ]
  }
 ],
 "metadata": {
  "kernelspec": {
   "display_name": "Python 3",
   "language": "python",
   "name": "python3"
  },
  "language_info": {
   "codemirror_mode": {
    "name": "ipython",
    "version": 3
   },
   "file_extension": ".py",
   "mimetype": "text/x-python",
   "name": "python",
   "nbconvert_exporter": "python",
   "pygments_lexer": "ipython3",
   "version": "3.7.7"
  }
 },
 "nbformat": 4,
 "nbformat_minor": 4
}
